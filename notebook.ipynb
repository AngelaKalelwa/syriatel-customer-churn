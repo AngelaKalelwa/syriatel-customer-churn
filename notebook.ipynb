{
 "cells": [
  {
   "cell_type": "markdown",
   "metadata": {},
   "source": [
    "# SYRIATEL CUSTOMER CHURN CLASSIFICATION PROJECT"
   ]
  },
  {
   "cell_type": "markdown",
   "metadata": {},
   "source": [
    "## BUSINESS UNDERSTANDING"
   ]
  },
  {
   "cell_type": "markdown",
   "metadata": {},
   "source": [
    "### Project Overview\n",
    "The objective of this project is to build a classifier that predicts whether a customer will \"soon\" stop doing business with SyriaTel, a telecommunications company.\n",
    "This is a binary classification problem, where the model will predict customer churn based on various features. By analyzing historical customer data, we aim to uncover patterns and factors that are indicative of customer churn. This will enable SyriaTel to take proactive measures to retain customers and reduce potential revenue loss.\n",
    "Churn prediction is crucial for the company to implement retention strategies and improve customer satisfaction.\n"
   ]
  },
  {
   "cell_type": "markdown",
   "metadata": {},
   "source": [
    "### Business Problem\n",
    "**Objective**: Predict whether a customer will churn (\"soon\" stop doing business with SyriaTel). \n",
    "\n",
    "**Importance**: Understanding customer churn is critical for SyriaTel to minimize revenue loss and enhance customer loyalty. By identifying the patterns and factors that lead to churn, SyriaTel can implement targeted retention strategies, improve overall customer satisfaction, and reduce the financial impact of losing customers. The core question to address is: Are there predictable patterns in the customer data that can help in identifying customers at risk of churning, and how can these insights be used to retain them?"
   ]
  },
  {
   "cell_type": "markdown",
   "metadata": {},
   "source": [
    "### Stakeholders\n",
    "- **Primary Stakeholder**: SyriaTel, a telecommunications company interested in reducing customer churn and improving customer retention.\n",
    "- **Secondary Stakeholders**:\n",
    "  - **Customer Service Teams**: To develop strategies and interventions for retaining customers identified as high risk.\n",
    "  - **Marketing Teams**: To create targeted campaigns and offers aimed at at-risk customers.\n",
    "  - **Financial Analysts**: To evaluate the financial impact of customer churn and measure the effectiveness of retention strategies."
   ]
  }
 ],
 "metadata": {
  "language_info": {
   "name": "python"
  }
 },
 "nbformat": 4,
 "nbformat_minor": 2
}
